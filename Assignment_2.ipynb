{
 "cells": [
  {
   "cell_type": "markdown",
   "metadata": {},
   "source": [
    "# Assignment-2"
   ]
  },
  {
   "cell_type": "markdown",
   "metadata": {},
   "source": [
    "# 1.What are the two values of the boolean data types? how do you write then"
   ]
  },
  {
   "cell_type": "raw",
   "metadata": {},
   "source": [
    "ANS: True and False are two values of the boolen data types. We have to use capital T and F and with the rest of the word in lowercase\n"
   ]
  },
  {
   "cell_type": "code",
   "execution_count": 2,
   "metadata": {},
   "outputs": [
    {
     "name": "stdout",
     "output_type": "stream",
     "text": [
      "<class 'bool'> True\n",
      "<class 'bool'> False\n"
     ]
    }
   ],
   "source": [
    "a=True\n",
    "b=False\n",
    "print(type(a),a)\n",
    "print(type(b),b)"
   ]
  },
  {
   "cell_type": "markdown",
   "metadata": {},
   "source": [
    "# 2. What are the three different types of Boolean operators?"
   ]
  },
  {
   "cell_type": "raw",
   "metadata": {},
   "source": [
    "ANS: The three differnt types of Boolean operators are and,or,not"
   ]
  },
  {
   "cell_type": "markdown",
   "metadata": {},
   "source": [
    "# 3. Make a list of each Boolean operator&#39;s truth tables (i.e. every possible combination of Boolean values for the operator and what it evaluate)\n"
   ]
  },
  {
   "cell_type": "raw",
   "metadata": {},
   "source": [
    "ANS:\n",
    "--------- and----------------\n",
    "True and True is True\n",
    "True and False is False\n",
    "False and True is False\n",
    "False and False is False\n",
    "------or---------------------\n",
    "True or True is True\n",
    "True or True is True\n",
    "False or True is True\n",
    "False or False is False\n",
    "-----------not--------------\n",
    "True not is False\n",
    "False not is True"
   ]
  },
  {
   "cell_type": "markdown",
   "metadata": {},
   "source": [
    "# 4. What are the values of the following expressions?"
   ]
  },
  {
   "cell_type": "markdown",
   "metadata": {},
   "source": [
    "(5 &gt; 4) and (3 == 5)\n",
    "\n",
    "not (5 &gt; 4)\n",
    "\n",
    "(5 &gt; 4) or (3 == 5)\n",
    "\n",
    "not ((5 &gt; 4) or (3 == 5))\n",
    "\n",
    "(True and True) and (True == False)\n",
    "\n",
    "(not False) or (not True)"
   ]
  },
  {
   "cell_type": "code",
   "execution_count": 6,
   "metadata": {},
   "outputs": [
    {
     "name": "stdout",
     "output_type": "stream",
     "text": [
      "False\n",
      "False\n",
      "True\n",
      "False\n",
      "False\n",
      "True\n"
     ]
    }
   ],
   "source": [
    "print((5>4) and (3==5))\n",
    "print(not (5>4))\n",
    "print((5>4) or (3==5))\n",
    "print(not ((5>4) or (3==5)))\n",
    "print((True and True) and (True==False))\n",
    "print((not False) or (not True))"
   ]
  },
  {
   "cell_type": "markdown",
   "metadata": {},
   "source": [
    "# 5. What are the six comparison operators?"
   ]
  },
  {
   "cell_type": "raw",
   "metadata": {},
   "source": [
    "ANS: ==,!=,<,>,<=,=>"
   ]
  },
  {
   "cell_type": "markdown",
   "metadata": {},
   "source": [
    "# 6. How do you tell the difference between the equal to and assignment operators?Describe a condition and when you would use one\n"
   ]
  },
  {
   "cell_type": "raw",
   "metadata": {},
   "source": [
    "ANS: == is the equal to operator that compares two values and evaluates to a Boolean, while = is that assignment operator that stores a value in a variable."
   ]
  },
  {
   "cell_type": "code",
   "execution_count": 9,
   "metadata": {},
   "outputs": [
    {
     "name": "stdout",
     "output_type": "stream",
     "text": [
      "True\n"
     ]
    }
   ],
   "source": [
    "a=3 # Assigning operator that stores 3 value in a variable a\n",
    "if a==3:#comparing values of a varible value and 3\n",
    "    print(a==3)\n",
    "    "
   ]
  },
  {
   "cell_type": "markdown",
   "metadata": {},
   "source": [
    "# 7. Identify the three blocks in this code:"
   ]
  },
  {
   "cell_type": "markdown",
   "metadata": {},
   "source": [
    "spam = 0\n",
    "\n",
    "if spam == 10:\n",
    "    \n",
    "print('eggs')\n",
    "      \n",
    "if spam > 5:\n",
    "      \n",
    "print('bacon')\n",
    "\n",
    "else:\n",
    "    \n",
    "print('ham')\n",
    "\n",
    "print('spam')\n",
    "\n",
    "print('spam')"
   ]
  },
  {
   "cell_type": "raw",
   "metadata": {},
   "source": [
    "ANS: The three blocks are everything inside the if statement and the lines .\n",
    "    print('bacon') and print('ham').\n",
    "\n",
    "print('eggs')\n",
    "if spam > 5:\n",
    "    print('bacon')\n",
    "else:\n",
    "    print('ham')\n",
    "print('spam')"
   ]
  },
  {
   "cell_type": "markdown",
   "metadata": {},
   "source": [
    "# 8. Write code that prints Hello if 1 is stored in spam, prints Howdy if 2 is stored in spam, and prints Greetings! if anything else is stored in spam.\n"
   ]
  },
  {
   "cell_type": "code",
   "execution_count": 12,
   "metadata": {},
   "outputs": [
    {
     "name": "stdout",
     "output_type": "stream",
     "text": [
      "greetings\n"
     ]
    }
   ],
   "source": [
    "spam=3\n",
    "if spam==1:\n",
    "    print('hello')\n",
    "elif spam==2:\n",
    "    print('Howdy')\n",
    "else:\n",
    "    print('greetings')"
   ]
  },
  {
   "cell_type": "markdown",
   "metadata": {},
   "source": [
    "# 9.If your programme is stuck in an endless loop, what keys you’ll press?"
   ]
  },
  {
   "cell_type": "raw",
   "metadata": {},
   "source": [
    "ANS: Press Ctrl-c to stop a program stuck in an infinite loop"
   ]
  },
  {
   "cell_type": "markdown",
   "metadata": {},
   "source": [
    "# 10. How can you tell the difference between break and continue?"
   ]
  },
  {
   "cell_type": "raw",
   "metadata": {},
   "source": [
    "ANS: The break statement will move the execution outside and just after a loop. The continue statement will move the execution to the start of the loop."
   ]
  },
  {
   "cell_type": "markdown",
   "metadata": {},
   "source": [
    "# 11. In a for loop, what is the difference between range(10), range(0, 10), and range(0, 10, 1)?"
   ]
  },
  {
   "cell_type": "raw",
   "metadata": {},
   "source": [
    "ANS: The range(10) call range from 0 to 9 (but not include 10)\n",
    "     The range (0,10) explicitly tells the loop to start at 0\n",
    "     The range(0,10,0) explicitly tells the loop to increase the variable by 1 on each iteration   "
   ]
  },
  {
   "cell_type": "markdown",
   "metadata": {},
   "source": [
    "# 12. Write a short program that prints the numbers 1 to 10 using a for loop. Then write an equivalent program that prints the numbers 1 to 10 using a while loop.\n"
   ]
  },
  {
   "cell_type": "code",
   "execution_count": 16,
   "metadata": {},
   "outputs": [
    {
     "name": "stdout",
     "output_type": "stream",
     "text": [
      "*******for loop*********\n",
      "1\n",
      "2\n",
      "3\n",
      "4\n",
      "5\n",
      "6\n",
      "7\n",
      "8\n",
      "9\n",
      "10\n",
      "*******while loop******\n",
      "1\n",
      "2\n",
      "3\n",
      "4\n",
      "5\n",
      "6\n",
      "7\n",
      "8\n",
      "9\n",
      "10\n"
     ]
    }
   ],
   "source": [
    "print('*******for loop*********')\n",
    "for i in range(1,11):\n",
    "    print(i)\n",
    "print('*******while loop******')    \n",
    "i=1\n",
    "while i<=10:\n",
    "    print(i)\n",
    "    i+=1"
   ]
  },
  {
   "cell_type": "markdown",
   "metadata": {},
   "source": [
    "# 13. If you had a function named bacon() inside a module named spam, how would you call it after importing spam ?\n"
   ]
  },
  {
   "cell_type": "raw",
   "metadata": {},
   "source": [
    "Ans: this function can be called with spam.bacon()"
   ]
  },
  {
   "cell_type": "code",
   "execution_count": null,
   "metadata": {},
   "outputs": [],
   "source": []
  }
 ],
 "metadata": {
  "kernelspec": {
   "display_name": "Python 3",
   "language": "python",
   "name": "python3"
  },
  "language_info": {
   "codemirror_mode": {
    "name": "ipython",
    "version": 3
   },
   "file_extension": ".py",
   "mimetype": "text/x-python",
   "name": "python",
   "nbconvert_exporter": "python",
   "pygments_lexer": "ipython3",
   "version": "3.8.5"
  }
 },
 "nbformat": 4,
 "nbformat_minor": 4
}
